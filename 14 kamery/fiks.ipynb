{
  "metadata": {
    "language_info": {
      "codemirror_mode": {
        "name": "python",
        "version": 3
      },
      "file_extension": ".py",
      "mimetype": "text/x-python",
      "name": "python",
      "nbconvert_exporter": "python",
      "pygments_lexer": "ipython3",
      "version": "3.8"
    },
    "kernelspec": {
      "name": "python",
      "display_name": "Pyolite",
      "language": "python"
    }
  },
  "nbformat_minor": 4,
  "nbformat": 4,
  "cells": [
    {
      "cell_type": "code",
      "source": "def divisors(n) :\n    i = 1\n    divisors = []\n    while i <= n :\n        if (n % i==0) :\n            divisors.append(i)\n        i += 1\n    return divisors",
      "metadata": {
        "trusted": true
      },
      "execution_count": 7,
      "outputs": []
    },
    {
      "cell_type": "code",
      "source": "divisors(36)",
      "metadata": {
        "trusted": true
      },
      "execution_count": 9,
      "outputs": [
        {
          "execution_count": 9,
          "output_type": "execute_result",
          "data": {
            "text/plain": "[1, 2, 3, 4, 6, 9, 12, 18, 36]"
          },
          "metadata": {}
        }
      ]
    },
    {
      "cell_type": "code",
      "source": "def frekvence_kamery(i):\n    divis = divisors(i)\n    kamery_predem = divis[1:len(divis)-1]\n    kamery_predem_n = 1\n    last_n_divisor = 0\n    for divisor in kamery_predem:\n        n_divisor = frekvence_kamery(divisor)[0]\n        if (last_n_divisor != n_divisor):\n            kamery_predem_n += 1\n            last_n_divisor = n_divisor\n    \n    return (kamery_predem_n,kamery_predem)",
      "metadata": {
        "trusted": true
      },
      "execution_count": 40,
      "outputs": []
    },
    {
      "cell_type": "code",
      "source": "N = 17\nfor i in range(2,N):\n    print(i,\":\",frekvence_kamery(i)[0],frekvence_kamery(i)[1])",
      "metadata": {
        "trusted": true
      },
      "execution_count": 41,
      "outputs": [
        {
          "name": "stdout",
          "text": "2 : 1 []\n3 : 1 []\n4 : 2 [2]\n5 : 1 []\n6 : 2 [2, 3]\n7 : 1 []\n8 : 3 [2, 4]\n9 : 2 [3]\n10 : 2 [2, 5]\n11 : 1 []\n12 : 3 [2, 3, 4, 6]\n13 : 1 []\n14 : 2 [2, 7]\n15 : 2 [3, 5]\n16 : 4 [2, 4, 8]\n",
          "output_type": "stream"
        }
      ]
    },
    {
      "cell_type": "code",
      "source": "",
      "metadata": {
        "trusted": true
      },
      "execution_count": null,
      "outputs": []
    }
  ]
}